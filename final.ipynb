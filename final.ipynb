{
  "nbformat": 4,
  "nbformat_minor": 0,
  "metadata": {
    "colab": {
      "provenance": [],
      "authorship_tag": "ABX9TyPeD61Qrf9pSa0aIGTnkCQj",
      "include_colab_link": true
    },
    "kernelspec": {
      "name": "python3",
      "display_name": "Python 3"
    },
    "language_info": {
      "name": "python"
    }
  },
  "cells": [
    {
      "cell_type": "markdown",
      "metadata": {
        "id": "view-in-github",
        "colab_type": "text"
      },
      "source": [
        "<a href=\"https://colab.research.google.com/github/Logeshwari-2001/Anomaly/blob/main/final.ipynb\" target=\"_parent\"><img src=\"https://colab.research.google.com/assets/colab-badge.svg\" alt=\"Open In Colab\"/></a>"
      ]
    },
    {
      "cell_type": "code",
      "execution_count": 1,
      "metadata": {
        "colab": {
          "base_uri": "https://localhost:8080/"
        },
        "id": "qvWGdBrNl1Fq",
        "outputId": "0ee488a9-068e-4973-f120-019a019d13f1"
      },
      "outputs": [
        {
          "output_type": "stream",
          "name": "stdout",
          "text": [
            "pandas : 1.5.3\n",
            "numpy : 1.22.4\n",
            "matplotlib : 3.7.1\n",
            "seaborn : 0.12.2\n",
            "sklearn : 1.2.2\n",
            "imblearn : 0.10.1\n"
          ]
        }
      ],
      "source": [
        "%matplotlib inline\n",
        "import matplotlib\n",
        "import matplotlib.pyplot as plt\n",
        "import pandas as pd\n",
        "import numpy as np\n",
        "import seaborn as sns\n",
        "import sklearn\n",
        "import imblearn\n",
        "import sys\n",
        "\n",
        "# Ignore warnings\n",
        "import warnings\n",
        "warnings.filterwarnings('ignore')\n",
        "\n",
        "# Settings\n",
        "pd.set_option('display.max_columns', None)\n",
        "np.set_printoptions(threshold=sys.maxsize)\n",
        "np.set_printoptions(precision=3)\n",
        "sns.set(style=\"darkgrid\")\n",
        "plt.rcParams['axes.labelsize'] = 14\n",
        "plt.rcParams['xtick.labelsize'] = 12\n",
        "plt.rcParams['ytick.labelsize'] = 12\n",
        "\n",
        "print(\"pandas : {0}\".format(pd.__version__))\n",
        "print(\"numpy : {0}\".format(np.__version__))\n",
        "print(\"matplotlib : {0}\".format(matplotlib.__version__))\n",
        "print(\"seaborn : {0}\".format(sns.__version__))\n",
        "print(\"sklearn : {0}\".format(sklearn.__version__))\n",
        "print(\"imblearn : {0}\".format(imblearn.__version__))\n"
      ]
    },
    {
      "cell_type": "code",
      "source": [
        "datacols = [\"duration\",\"protocol_type\",\"service\",\"flag\",\"src_bytes\",\n",
        "    \"dst_bytes\",\"land\",\"wrong_fragment\",\"urgent\",\"hot\",\"num_failed_logins\",\n",
        "    \"logged_in\",\"num_compromised\",\"root_shell\",\"su_attempted\",\"num_root\",\n",
        "    \"num_file_creations\",\"num_shells\",\"num_access_files\",\"num_outbound_cmds\",\n",
        "    \"is_host_login\",\"is_guest_login\",\"count\",\"srv_count\",\"serror_rate\",\n",
        "    \"srv_serror_rate\",\"rerror_rate\",\"srv_rerror_rate\",\"same_srv_rate\",\n",
        "    \"diff_srv_rate\",\"srv_diff_host_rate\",\"dst_host_count\",\"dst_host_srv_count\",\n",
        "    \"dst_host_same_srv_rate\",\"dst_host_diff_srv_rate\",\"dst_host_same_src_port_rate\",\n",
        "    \"dst_host_srv_diff_host_rate\",\"dst_host_serror_rate\",\"dst_host_srv_serror_rate\",\n",
        "    \"dst_host_rerror_rate\",\"dst_host_srv_rerror_rate\",\"attack\", \"last_flag\"]\n",
        "\n",
        "# Load NSL_KDD train dataset\n",
        "train = pd.read_csv(\"/content/KDDTrain.csv\", names=datacols) # change path to where the dataset is located.\n",
        "test = pd.read_csv(\"/content/KDDTest.csv\", names=datacols)\n",
        "#eliminating the unwanted extra field\n",
        "train = train.iloc[:,:-1]\n",
        "test = test.iloc[:,:-1]\n",
        "     "
      ],
      "metadata": {
        "id": "er3fntPAmCN6"
      },
      "execution_count": 2,
      "outputs": []
    },
    {
      "cell_type": "code",
      "source": [
        "print(train.head(4))\n",
        "\n",
        "print(\"Training data has {} rows & {} columns\".format(train.shape[0],train.shape[1]))"
      ],
      "metadata": {
        "colab": {
          "base_uri": "https://localhost:8080/"
        },
        "id": "DxjUGpZUmGwd",
        "outputId": "24ffca78-6da5-4544-f146-4b6ddc35d223"
      },
      "execution_count": 3,
      "outputs": [
        {
          "output_type": "stream",
          "name": "stdout",
          "text": [
            "   duration protocol_type   service flag  src_bytes  dst_bytes  land  \\\n",
            "0         0           tcp  ftp_data   SF        491          0     0   \n",
            "1         0           udp     other   SF        146          0     0   \n",
            "2         0           tcp   private   S0          0          0     0   \n",
            "3         0           tcp      http   SF        232       8153     0   \n",
            "\n",
            "   wrong_fragment  urgent  hot  num_failed_logins  logged_in  num_compromised  \\\n",
            "0               0       0    0                  0          0                0   \n",
            "1               0       0    0                  0          0                0   \n",
            "2               0       0    0                  0          0                0   \n",
            "3               0       0    0                  0          1                0   \n",
            "\n",
            "   root_shell  su_attempted  num_root  num_file_creations  num_shells  \\\n",
            "0           0             0         0                   0           0   \n",
            "1           0             0         0                   0           0   \n",
            "2           0             0         0                   0           0   \n",
            "3           0             0         0                   0           0   \n",
            "\n",
            "   num_access_files  num_outbound_cmds  is_host_login  is_guest_login  count  \\\n",
            "0                 0                  0              0               0      2   \n",
            "1                 0                  0              0               0     13   \n",
            "2                 0                  0              0               0    123   \n",
            "3                 0                  0              0               0      5   \n",
            "\n",
            "   srv_count  serror_rate  srv_serror_rate  rerror_rate  srv_rerror_rate  \\\n",
            "0          2          0.0              0.0          0.0              0.0   \n",
            "1          1          0.0              0.0          0.0              0.0   \n",
            "2          6          1.0              1.0          0.0              0.0   \n",
            "3          5          0.2              0.2          0.0              0.0   \n",
            "\n",
            "   same_srv_rate  diff_srv_rate  srv_diff_host_rate  dst_host_count  \\\n",
            "0           1.00           0.00                 0.0             150   \n",
            "1           0.08           0.15                 0.0             255   \n",
            "2           0.05           0.07                 0.0             255   \n",
            "3           1.00           0.00                 0.0              30   \n",
            "\n",
            "   dst_host_srv_count  dst_host_same_srv_rate  dst_host_diff_srv_rate  \\\n",
            "0                  25                    0.17                    0.03   \n",
            "1                   1                    0.00                    0.60   \n",
            "2                  26                    0.10                    0.05   \n",
            "3                 255                    1.00                    0.00   \n",
            "\n",
            "   dst_host_same_src_port_rate  dst_host_srv_diff_host_rate  \\\n",
            "0                         0.17                         0.00   \n",
            "1                         0.88                         0.00   \n",
            "2                         0.00                         0.00   \n",
            "3                         0.03                         0.04   \n",
            "\n",
            "   dst_host_serror_rate  dst_host_srv_serror_rate  dst_host_rerror_rate  \\\n",
            "0                  0.00                      0.00                  0.05   \n",
            "1                  0.00                      0.00                  0.00   \n",
            "2                  1.00                      1.00                  0.00   \n",
            "3                  0.03                      0.01                  0.00   \n",
            "\n",
            "   dst_host_srv_rerror_rate   attack  \n",
            "0                      0.00   normal  \n",
            "1                      0.00   normal  \n",
            "2                      0.00  neptune  \n",
            "3                      0.01   normal  \n",
            "Training data has 125973 rows & 42 columns\n"
          ]
        }
      ]
    },
    {
      "cell_type": "code",
      "source": [
        "print(test.head(4))\n",
        "\n",
        "print(\"Training data has {} rows & {} columns\".format(test.shape[0],test.shape[1]))"
      ],
      "metadata": {
        "colab": {
          "base_uri": "https://localhost:8080/"
        },
        "id": "PdRIN2nb5UtK",
        "outputId": "a658773f-6da0-45a6-9a52-85a07d6f810a"
      },
      "execution_count": 4,
      "outputs": [
        {
          "output_type": "stream",
          "name": "stdout",
          "text": [
            "   duration protocol_type   service flag  src_bytes  dst_bytes  land  \\\n",
            "0         0           tcp   private  REJ          0          0     0   \n",
            "1         0           tcp   private  REJ          0          0     0   \n",
            "2         2           tcp  ftp_data   SF      12983          0     0   \n",
            "3         0          icmp     eco_i   SF         20          0     0   \n",
            "\n",
            "   wrong_fragment  urgent  hot  num_failed_logins  logged_in  num_compromised  \\\n",
            "0               0       0    0                  0          0                0   \n",
            "1               0       0    0                  0          0                0   \n",
            "2               0       0    0                  0          0                0   \n",
            "3               0       0    0                  0          0                0   \n",
            "\n",
            "   root_shell  su_attempted  num_root  num_file_creations  num_shells  \\\n",
            "0           0             0         0                   0           0   \n",
            "1           0             0         0                   0           0   \n",
            "2           0             0         0                   0           0   \n",
            "3           0             0         0                   0           0   \n",
            "\n",
            "   num_access_files  num_outbound_cmds  is_host_login  is_guest_login  count  \\\n",
            "0                 0                  0              0               0    229   \n",
            "1                 0                  0              0               0    136   \n",
            "2                 0                  0              0               0      1   \n",
            "3                 0                  0              0               0      1   \n",
            "\n",
            "   srv_count  serror_rate  srv_serror_rate  rerror_rate  srv_rerror_rate  \\\n",
            "0         10          0.0              0.0          1.0              1.0   \n",
            "1          1          0.0              0.0          1.0              1.0   \n",
            "2          1          0.0              0.0          0.0              0.0   \n",
            "3         65          0.0              0.0          0.0              0.0   \n",
            "\n",
            "   same_srv_rate  diff_srv_rate  srv_diff_host_rate  dst_host_count  \\\n",
            "0           0.04           0.06                 0.0             255   \n",
            "1           0.01           0.06                 0.0             255   \n",
            "2           1.00           0.00                 0.0             134   \n",
            "3           1.00           0.00                 1.0               3   \n",
            "\n",
            "   dst_host_srv_count  dst_host_same_srv_rate  dst_host_diff_srv_rate  \\\n",
            "0                  10                    0.04                    0.06   \n",
            "1                   1                    0.00                    0.06   \n",
            "2                  86                    0.61                    0.04   \n",
            "3                  57                    1.00                    0.00   \n",
            "\n",
            "   dst_host_same_src_port_rate  dst_host_srv_diff_host_rate  \\\n",
            "0                         0.00                         0.00   \n",
            "1                         0.00                         0.00   \n",
            "2                         0.61                         0.02   \n",
            "3                         1.00                         0.28   \n",
            "\n",
            "   dst_host_serror_rate  dst_host_srv_serror_rate  dst_host_rerror_rate  \\\n",
            "0                   0.0                       0.0                   1.0   \n",
            "1                   0.0                       0.0                   1.0   \n",
            "2                   0.0                       0.0                   0.0   \n",
            "3                   0.0                       0.0                   0.0   \n",
            "\n",
            "   dst_host_srv_rerror_rate   attack  \n",
            "0                       1.0  neptune  \n",
            "1                       1.0  neptune  \n",
            "2                       0.0   normal  \n",
            "3                       0.0    saint  \n",
            "Training data has 22544 rows & 42 columns\n"
          ]
        }
      ]
    },
    {
      "cell_type": "code",
      "source": [
        "mapping = {'ipsweep': 'Probe','satan': 'Probe','nmap': 'Probe','portsweep': 'Probe','saint': 'Probe','mscan': 'Probe',\n",
        "        'teardrop': 'DoS','pod': 'DoS','land': 'DoS','back': 'DoS','neptune': 'DoS','smurf': 'DoS','mailbomb': 'DoS',\n",
        "        'udpstorm': 'DoS','apache2': 'DoS','processtable': 'DoS',\n",
        "        'perl': 'U2R','loadmodule': 'U2R','rootkit': 'U2R','buffer_overflow': 'U2R','xterm': 'U2R','ps': 'U2R',\n",
        "        'sqlattack': 'U2R','httptunnel': 'U2R',\n",
        "        'ftp_write': 'R2L','phf': 'R2L','guess_passwd': 'R2L','warezmaster': 'R2L','warezclient': 'R2L','imap': 'R2L',\n",
        "        'spy': 'R2L','multihop': 'R2L','named': 'R2L','snmpguess': 'R2L','worm': 'R2L','snmpgetattack': 'R2L',\n",
        "        'xsnoop': 'R2L','xlock': 'R2L','sendmail': 'R2L',\n",
        "        'normal': 'Normal'\n",
        "        }"
      ],
      "metadata": {
        "id": "Vv65ya2JmbCm"
      },
      "execution_count": 5,
      "outputs": []
    },
    {
      "cell_type": "code",
      "source": [
        "train['attack'] = train['attack'].apply(lambda v: mapping[v])\n",
        "test['attack'] = test['attack'].apply(lambda v: mapping[v])"
      ],
      "metadata": {
        "id": "0_m53RE9mdPS"
      },
      "execution_count": 6,
      "outputs": []
    },
    {
      "cell_type": "code",
      "source": [
        "attack_class_freq_train = train[['attack']].apply(lambda x: x.value_counts())\n",
        "\n",
        "attack_class_freq_train['frequency_percent_train'] = round((100 * attack_class_freq_train / attack_class_freq_train.sum()),2)\n",
        "attack_class_dist = pd.concat([attack_class_freq_train], axis=1) \n",
        "attack_class_dist"
      ],
      "metadata": {
        "colab": {
          "base_uri": "https://localhost:8080/",
          "height": 206
        },
        "id": "hTkrND15mgMJ",
        "outputId": "a836db05-a07a-4cbf-ab11-af753fcc2266"
      },
      "execution_count": 7,
      "outputs": [
        {
          "output_type": "execute_result",
          "data": {
            "text/plain": [
              "        attack  frequency_percent_train\n",
              "Normal   67343                    53.46\n",
              "DoS      45927                    36.46\n",
              "Probe    11656                     9.25\n",
              "R2L        995                     0.79\n",
              "U2R         52                     0.04"
            ],
            "text/html": [
              "\n",
              "  <div id=\"df-f804bf24-fe99-437e-b9e0-87c88652bf18\">\n",
              "    <div class=\"colab-df-container\">\n",
              "      <div>\n",
              "<style scoped>\n",
              "    .dataframe tbody tr th:only-of-type {\n",
              "        vertical-align: middle;\n",
              "    }\n",
              "\n",
              "    .dataframe tbody tr th {\n",
              "        vertical-align: top;\n",
              "    }\n",
              "\n",
              "    .dataframe thead th {\n",
              "        text-align: right;\n",
              "    }\n",
              "</style>\n",
              "<table border=\"1\" class=\"dataframe\">\n",
              "  <thead>\n",
              "    <tr style=\"text-align: right;\">\n",
              "      <th></th>\n",
              "      <th>attack</th>\n",
              "      <th>frequency_percent_train</th>\n",
              "    </tr>\n",
              "  </thead>\n",
              "  <tbody>\n",
              "    <tr>\n",
              "      <th>Normal</th>\n",
              "      <td>67343</td>\n",
              "      <td>53.46</td>\n",
              "    </tr>\n",
              "    <tr>\n",
              "      <th>DoS</th>\n",
              "      <td>45927</td>\n",
              "      <td>36.46</td>\n",
              "    </tr>\n",
              "    <tr>\n",
              "      <th>Probe</th>\n",
              "      <td>11656</td>\n",
              "      <td>9.25</td>\n",
              "    </tr>\n",
              "    <tr>\n",
              "      <th>R2L</th>\n",
              "      <td>995</td>\n",
              "      <td>0.79</td>\n",
              "    </tr>\n",
              "    <tr>\n",
              "      <th>U2R</th>\n",
              "      <td>52</td>\n",
              "      <td>0.04</td>\n",
              "    </tr>\n",
              "  </tbody>\n",
              "</table>\n",
              "</div>\n",
              "      <button class=\"colab-df-convert\" onclick=\"convertToInteractive('df-f804bf24-fe99-437e-b9e0-87c88652bf18')\"\n",
              "              title=\"Convert this dataframe to an interactive table.\"\n",
              "              style=\"display:none;\">\n",
              "        \n",
              "  <svg xmlns=\"http://www.w3.org/2000/svg\" height=\"24px\"viewBox=\"0 0 24 24\"\n",
              "       width=\"24px\">\n",
              "    <path d=\"M0 0h24v24H0V0z\" fill=\"none\"/>\n",
              "    <path d=\"M18.56 5.44l.94 2.06.94-2.06 2.06-.94-2.06-.94-.94-2.06-.94 2.06-2.06.94zm-11 1L8.5 8.5l.94-2.06 2.06-.94-2.06-.94L8.5 2.5l-.94 2.06-2.06.94zm10 10l.94 2.06.94-2.06 2.06-.94-2.06-.94-.94-2.06-.94 2.06-2.06.94z\"/><path d=\"M17.41 7.96l-1.37-1.37c-.4-.4-.92-.59-1.43-.59-.52 0-1.04.2-1.43.59L10.3 9.45l-7.72 7.72c-.78.78-.78 2.05 0 2.83L4 21.41c.39.39.9.59 1.41.59.51 0 1.02-.2 1.41-.59l7.78-7.78 2.81-2.81c.8-.78.8-2.07 0-2.86zM5.41 20L4 18.59l7.72-7.72 1.47 1.35L5.41 20z\"/>\n",
              "  </svg>\n",
              "      </button>\n",
              "      \n",
              "  <style>\n",
              "    .colab-df-container {\n",
              "      display:flex;\n",
              "      flex-wrap:wrap;\n",
              "      gap: 12px;\n",
              "    }\n",
              "\n",
              "    .colab-df-convert {\n",
              "      background-color: #E8F0FE;\n",
              "      border: none;\n",
              "      border-radius: 50%;\n",
              "      cursor: pointer;\n",
              "      display: none;\n",
              "      fill: #1967D2;\n",
              "      height: 32px;\n",
              "      padding: 0 0 0 0;\n",
              "      width: 32px;\n",
              "    }\n",
              "\n",
              "    .colab-df-convert:hover {\n",
              "      background-color: #E2EBFA;\n",
              "      box-shadow: 0px 1px 2px rgba(60, 64, 67, 0.3), 0px 1px 3px 1px rgba(60, 64, 67, 0.15);\n",
              "      fill: #174EA6;\n",
              "    }\n",
              "\n",
              "    [theme=dark] .colab-df-convert {\n",
              "      background-color: #3B4455;\n",
              "      fill: #D2E3FC;\n",
              "    }\n",
              "\n",
              "    [theme=dark] .colab-df-convert:hover {\n",
              "      background-color: #434B5C;\n",
              "      box-shadow: 0px 1px 3px 1px rgba(0, 0, 0, 0.15);\n",
              "      filter: drop-shadow(0px 1px 2px rgba(0, 0, 0, 0.3));\n",
              "      fill: #FFFFFF;\n",
              "    }\n",
              "  </style>\n",
              "\n",
              "      <script>\n",
              "        const buttonEl =\n",
              "          document.querySelector('#df-f804bf24-fe99-437e-b9e0-87c88652bf18 button.colab-df-convert');\n",
              "        buttonEl.style.display =\n",
              "          google.colab.kernel.accessAllowed ? 'block' : 'none';\n",
              "\n",
              "        async function convertToInteractive(key) {\n",
              "          const element = document.querySelector('#df-f804bf24-fe99-437e-b9e0-87c88652bf18');\n",
              "          const dataTable =\n",
              "            await google.colab.kernel.invokeFunction('convertToInteractive',\n",
              "                                                     [key], {});\n",
              "          if (!dataTable) return;\n",
              "\n",
              "          const docLinkHtml = 'Like what you see? Visit the ' +\n",
              "            '<a target=\"_blank\" href=https://colab.research.google.com/notebooks/data_table.ipynb>data table notebook</a>'\n",
              "            + ' to learn more about interactive tables.';\n",
              "          element.innerHTML = '';\n",
              "          dataTable['output_type'] = 'display_data';\n",
              "          await google.colab.output.renderOutput(dataTable, element);\n",
              "          const docLink = document.createElement('div');\n",
              "          docLink.innerHTML = docLinkHtml;\n",
              "          element.appendChild(docLink);\n",
              "        }\n",
              "      </script>\n",
              "    </div>\n",
              "  </div>\n",
              "  "
            ]
          },
          "metadata": {},
          "execution_count": 7
        }
      ]
    },
    {
      "cell_type": "code",
      "source": [
        "from sklearn.preprocessing import StandardScaler\n",
        "scaler = StandardScaler()\n",
        "\n",
        "# extract numerical attributes and scale it to have zero mean and unit variance  \n",
        "cols = train.select_dtypes(include=['float64','int64']).columns\n",
        "sc_train = scaler.fit_transform(train.select_dtypes(include=['float64','int64']))\n",
        "\n",
        "cols = test.select_dtypes(include=['float64','int64']).columns\n",
        "sc_test = scaler.fit_transform(test.select_dtypes(include=['float64','int64']))\n",
        "\n",
        "# turn the result back to a dataframe\n",
        "sc_traindf = pd.DataFrame(sc_train, columns = cols)\n",
        "sc_testdf = pd.DataFrame(sc_test, columns = cols)"
      ],
      "metadata": {
        "id": "1iwttsTwmiIP"
      },
      "execution_count": 8,
      "outputs": []
    },
    {
      "cell_type": "code",
      "source": [
        "from sklearn.preprocessing import LabelEncoder\n",
        "encoder = LabelEncoder()\n",
        "\n",
        "# extract categorical attributes from both training and test sets \n",
        "cattrain = train.select_dtypes(include=['object']).copy()\n",
        "\n",
        "\n",
        "# encode the categorical attributes\n",
        "traincat = cattrain.apply(encoder.fit_transform)\n",
        "\n",
        "\n",
        "# separate target column from encoded data \n",
        "enctrain = traincat.drop(['attack'], axis=1)\n",
        "cat_Ytrain = traincat[['attack']].copy()\n",
        "\n"
      ],
      "metadata": {
        "id": "0L8rotqHmktp"
      },
      "execution_count": 9,
      "outputs": []
    },
    {
      "cell_type": "code",
      "source": [
        "train_x = pd.concat([sc_traindf,enctrain],axis=1)\n",
        "train_y = train['attack']\n",
        "train_x.shape\n",
        "\n",
        "\n"
      ],
      "metadata": {
        "colab": {
          "base_uri": "https://localhost:8080/"
        },
        "id": "Qb01HSmnmoBW",
        "outputId": "5f18a383-bb9b-4dec-b3b4-8f63a40a4d61"
      },
      "execution_count": 20,
      "outputs": [
        {
          "output_type": "execute_result",
          "data": {
            "text/plain": [
              "(22544, 41)"
            ]
          },
          "metadata": {},
          "execution_count": 20
        }
      ]
    },
    {
      "cell_type": "code",
      "source": [
        "train_y\n",
        "y_train=train.attack\n",
        "\n",
        "\n"
      ],
      "metadata": {
        "id": "lCxV5jqVmqP8",
        "colab": {
          "base_uri": "https://localhost:8080/"
        },
        "outputId": "5240044f-5407-4f27-f4fd-0e35da43d952"
      },
      "execution_count": 24,
      "outputs": [
        {
          "output_type": "stream",
          "name": "stdout",
          "text": [
            "0           DoS\n",
            "1           DoS\n",
            "2        Normal\n",
            "3         Probe\n",
            "4         Probe\n",
            "          ...  \n",
            "22539    Normal\n",
            "22540    Normal\n",
            "22541       DoS\n",
            "22542    Normal\n",
            "22543     Probe\n",
            "Name: attack, Length: 22544, dtype: object\n"
          ]
        }
      ]
    },
    {
      "cell_type": "code",
      "source": [
        "from sklearn.model_selection import train_test_split\n",
        "X_train, X_test, y_train, y_test = train_test_split(train_x, y_train, test_size=0.2, random_state=42)\n"
      ],
      "metadata": {
        "colab": {
          "base_uri": "https://localhost:8080/",
          "height": 336
        },
        "id": "aO3n4NMc-4xp",
        "outputId": "b879bb86-df13-4bcf-c19b-96fedf683945"
      },
      "execution_count": 64,
      "outputs": [
        {
          "output_type": "error",
          "ename": "ValueError",
          "evalue": "ignored",
          "traceback": [
            "\u001b[0;31m---------------------------------------------------------------------------\u001b[0m",
            "\u001b[0;31mValueError\u001b[0m                                Traceback (most recent call last)",
            "\u001b[0;32m<ipython-input-64-224e6d59c916>\u001b[0m in \u001b[0;36m<cell line: 2>\u001b[0;34m()\u001b[0m\n\u001b[1;32m      1\u001b[0m \u001b[0;32mfrom\u001b[0m \u001b[0msklearn\u001b[0m\u001b[0;34m.\u001b[0m\u001b[0mmodel_selection\u001b[0m \u001b[0;32mimport\u001b[0m \u001b[0mtrain_test_split\u001b[0m\u001b[0;34m\u001b[0m\u001b[0;34m\u001b[0m\u001b[0m\n\u001b[0;32m----> 2\u001b[0;31m \u001b[0mX_train\u001b[0m\u001b[0;34m,\u001b[0m \u001b[0mX_test\u001b[0m\u001b[0;34m,\u001b[0m \u001b[0my_train\u001b[0m\u001b[0;34m,\u001b[0m \u001b[0my_test\u001b[0m \u001b[0;34m=\u001b[0m \u001b[0mtrain_test_split\u001b[0m\u001b[0;34m(\u001b[0m\u001b[0mtrain_x\u001b[0m\u001b[0;34m,\u001b[0m \u001b[0my_train\u001b[0m\u001b[0;34m,\u001b[0m \u001b[0mtest_size\u001b[0m\u001b[0;34m=\u001b[0m\u001b[0;36m0.2\u001b[0m\u001b[0;34m,\u001b[0m \u001b[0mrandom_state\u001b[0m\u001b[0;34m=\u001b[0m\u001b[0;36m42\u001b[0m\u001b[0;34m)\u001b[0m\u001b[0;34m\u001b[0m\u001b[0;34m\u001b[0m\u001b[0m\n\u001b[0m",
            "\u001b[0;32m/usr/local/lib/python3.10/dist-packages/sklearn/model_selection/_split.py\u001b[0m in \u001b[0;36mtrain_test_split\u001b[0;34m(test_size, train_size, random_state, shuffle, stratify, *arrays)\u001b[0m\n\u001b[1;32m   2557\u001b[0m         \u001b[0;32mraise\u001b[0m \u001b[0mValueError\u001b[0m\u001b[0;34m(\u001b[0m\u001b[0;34m\"At least one array required as input\"\u001b[0m\u001b[0;34m)\u001b[0m\u001b[0;34m\u001b[0m\u001b[0;34m\u001b[0m\u001b[0m\n\u001b[1;32m   2558\u001b[0m \u001b[0;34m\u001b[0m\u001b[0m\n\u001b[0;32m-> 2559\u001b[0;31m     \u001b[0marrays\u001b[0m \u001b[0;34m=\u001b[0m \u001b[0mindexable\u001b[0m\u001b[0;34m(\u001b[0m\u001b[0;34m*\u001b[0m\u001b[0marrays\u001b[0m\u001b[0;34m)\u001b[0m\u001b[0;34m\u001b[0m\u001b[0;34m\u001b[0m\u001b[0m\n\u001b[0m\u001b[1;32m   2560\u001b[0m \u001b[0;34m\u001b[0m\u001b[0m\n\u001b[1;32m   2561\u001b[0m     \u001b[0mn_samples\u001b[0m \u001b[0;34m=\u001b[0m \u001b[0m_num_samples\u001b[0m\u001b[0;34m(\u001b[0m\u001b[0marrays\u001b[0m\u001b[0;34m[\u001b[0m\u001b[0;36m0\u001b[0m\u001b[0;34m]\u001b[0m\u001b[0;34m)\u001b[0m\u001b[0;34m\u001b[0m\u001b[0;34m\u001b[0m\u001b[0m\n",
            "\u001b[0;32m/usr/local/lib/python3.10/dist-packages/sklearn/utils/validation.py\u001b[0m in \u001b[0;36mindexable\u001b[0;34m(*iterables)\u001b[0m\n\u001b[1;32m    441\u001b[0m \u001b[0;34m\u001b[0m\u001b[0m\n\u001b[1;32m    442\u001b[0m     \u001b[0mresult\u001b[0m \u001b[0;34m=\u001b[0m \u001b[0;34m[\u001b[0m\u001b[0m_make_indexable\u001b[0m\u001b[0;34m(\u001b[0m\u001b[0mX\u001b[0m\u001b[0;34m)\u001b[0m \u001b[0;32mfor\u001b[0m \u001b[0mX\u001b[0m \u001b[0;32min\u001b[0m \u001b[0miterables\u001b[0m\u001b[0;34m]\u001b[0m\u001b[0;34m\u001b[0m\u001b[0;34m\u001b[0m\u001b[0m\n\u001b[0;32m--> 443\u001b[0;31m     \u001b[0mcheck_consistent_length\u001b[0m\u001b[0;34m(\u001b[0m\u001b[0;34m*\u001b[0m\u001b[0mresult\u001b[0m\u001b[0;34m)\u001b[0m\u001b[0;34m\u001b[0m\u001b[0;34m\u001b[0m\u001b[0m\n\u001b[0m\u001b[1;32m    444\u001b[0m     \u001b[0;32mreturn\u001b[0m \u001b[0mresult\u001b[0m\u001b[0;34m\u001b[0m\u001b[0;34m\u001b[0m\u001b[0m\n\u001b[1;32m    445\u001b[0m \u001b[0;34m\u001b[0m\u001b[0m\n",
            "\u001b[0;32m/usr/local/lib/python3.10/dist-packages/sklearn/utils/validation.py\u001b[0m in \u001b[0;36mcheck_consistent_length\u001b[0;34m(*arrays)\u001b[0m\n\u001b[1;32m    395\u001b[0m     \u001b[0muniques\u001b[0m \u001b[0;34m=\u001b[0m \u001b[0mnp\u001b[0m\u001b[0;34m.\u001b[0m\u001b[0munique\u001b[0m\u001b[0;34m(\u001b[0m\u001b[0mlengths\u001b[0m\u001b[0;34m)\u001b[0m\u001b[0;34m\u001b[0m\u001b[0;34m\u001b[0m\u001b[0m\n\u001b[1;32m    396\u001b[0m     \u001b[0;32mif\u001b[0m \u001b[0mlen\u001b[0m\u001b[0;34m(\u001b[0m\u001b[0muniques\u001b[0m\u001b[0;34m)\u001b[0m \u001b[0;34m>\u001b[0m \u001b[0;36m1\u001b[0m\u001b[0;34m:\u001b[0m\u001b[0;34m\u001b[0m\u001b[0;34m\u001b[0m\u001b[0m\n\u001b[0;32m--> 397\u001b[0;31m         raise ValueError(\n\u001b[0m\u001b[1;32m    398\u001b[0m             \u001b[0;34m\"Found input variables with inconsistent numbers of samples: %r\"\u001b[0m\u001b[0;34m\u001b[0m\u001b[0;34m\u001b[0m\u001b[0m\n\u001b[1;32m    399\u001b[0m             \u001b[0;34m%\u001b[0m \u001b[0;34m[\u001b[0m\u001b[0mint\u001b[0m\u001b[0;34m(\u001b[0m\u001b[0ml\u001b[0m\u001b[0;34m)\u001b[0m \u001b[0;32mfor\u001b[0m \u001b[0ml\u001b[0m \u001b[0;32min\u001b[0m \u001b[0mlengths\u001b[0m\u001b[0;34m]\u001b[0m\u001b[0;34m\u001b[0m\u001b[0;34m\u001b[0m\u001b[0m\n",
            "\u001b[0;31mValueError\u001b[0m: Found input variables with inconsistent numbers of samples: [125973, 100778]"
          ]
        }
      ]
    },
    {
      "cell_type": "code",
      "source": [
        "accuracy_dict = {}"
      ],
      "metadata": {
        "id": "sEdXssXeG7yM"
      },
      "execution_count": 59,
      "outputs": []
    },
    {
      "cell_type": "code",
      "source": [
        "from sklearn.linear_model import LogisticRegression\n",
        "from sklearn.ensemble import RandomForestClassifier\n",
        "from sklearn.model_selection import train_test_split, cross_val_score\n",
        "from sklearn.metrics import accuracy_score\n",
        "for feature in X_train.columns:\n",
        "    # Fit a rfc model using cross-validation to choose the optimal hyperparameters\n",
        "    rfc = RandomForestClassifier(n_estimators=100, random_state=42)\n",
        "    scores = cross_val_score(rfc, X_train[[feature]], y_train, cv=5)\n",
        "    accuracy = scores.mean()\n",
        "    # Evaluate the performance of the model on the validation set\n",
        "    rfc.fit(X_train[[feature]], y_train)\n",
        "    y_pred = rfc.predict(X_test[[feature]])\n",
        "    accuracy_dict[feature] = accuracy_score(y_test, y_pred)\n",
        "\n",
        "# Print the accuracy scores for each feature\n",
        "for feature, accuracy in accuracy_dict.items():\n",
        "    print(feature, ':', accuracy)"
      ],
      "metadata": {
        "colab": {
          "base_uri": "https://localhost:8080/"
        },
        "id": "uoJQx7pHG5XK",
        "outputId": "6283e00c-9fee-4638-d30f-12e4a0cd60c6"
      },
      "execution_count": 60,
      "outputs": [
        {
          "output_type": "stream",
          "name": "stdout",
          "text": [
            "duration : 0.5355824568366739\n",
            "src_bytes : 0.9262552093669378\n",
            "dst_bytes : 0.8128993847985712\n",
            "land : 0.5327644373883708\n",
            "wrong_fragment : 0.5417741615399881\n",
            "urgent : 0.5327247469736058\n",
            "hot : 0.5405040682675134\n",
            "num_failed_logins : 0.5326056757293114\n",
            "logged_in : 0.7372891446715618\n",
            "num_compromised : 0.5387973804326255\n",
            "root_shell : 0.5327247469736058\n",
            "su_attempted : 0.5327247469736058\n",
            "num_root : 0.532685056558841\n",
            "num_file_creations : 0.532685056558841\n",
            "num_shells : 0.5326453661440762\n",
            "num_access_files : 0.5327247469736058\n",
            "num_outbound_cmds : 0.5327247469736058\n",
            "is_host_login : 0.5327247469736058\n",
            "is_guest_login : 0.5327247469736058\n",
            "count : 0.8045247072831911\n",
            "srv_count : 0.6258781504266719\n",
            "serror_rate : 0.8126215518952173\n",
            "srv_serror_rate : 0.8010319507838857\n",
            "rerror_rate : 0.5862274260766025\n",
            "srv_rerror_rate : 0.5668188132565986\n",
            "same_srv_rate : 0.8494145663822187\n",
            "diff_srv_rate : 0.8641397102599723\n",
            "srv_diff_host_rate : 0.5535225243103791\n",
            "dst_host_count : 0.6729906727525302\n",
            "dst_host_srv_count : 0.7991665012899385\n",
            "dst_host_same_srv_rate : 0.8079380829529669\n",
            "dst_host_diff_srv_rate : 0.8317523318118675\n",
            "dst_host_same_src_port_rate : 0.6826751339551498\n",
            "dst_host_srv_diff_host_rate : 0.6557253423298274\n",
            "dst_host_serror_rate : 0.8111926969636832\n",
            "dst_host_srv_serror_rate : 0.8013891645167692\n",
            "dst_host_rerror_rate : 0.5957134352053979\n",
            "dst_host_srv_rerror_rate : 0.5769795594363961\n",
            "protocol_type : 0.5555864258781504\n",
            "service : 0.867791228418337\n",
            "flag : 0.8535026791029966\n"
          ]
        }
      ]
    },
    {
      "cell_type": "code",
      "source": [
        "from sklearn.ensemble import RandomForestClassifier\n",
        "rfc = RandomForestClassifier();\n",
        "\n",
        "# fit random forest classifier on the training set\n",
        "rfc.fit(train_x, train_y);\n",
        "# extract important features\n",
        "score = np.round(rfc.feature_importances_,3)\n",
        "importances = pd.DataFrame({'feature':train_x.columns,'importance':score})\n",
        "importances = importances.sort_values('importance',ascending=False).set_index('feature')\n",
        "# plot importances\n",
        "plt.rcParams['figure.figsize'] = (11, 4)\n",
        "importances.plot.bar();"
      ],
      "metadata": {
        "colab": {
          "base_uri": "https://localhost:8080/",
          "height": 623
        },
        "id": "fkxr9E7rmsp-",
        "outputId": "f307e9ed-3050-4c92-def0-85263592e678"
      },
      "execution_count": 12,
      "outputs": [
        {
          "output_type": "display_data",
          "data": {
            "text/plain": [
              "<Figure size 1100x400 with 1 Axes>"
            ],
            "image/png": "[encoded data removed]"
          },
          "metadata": {}
        }
      ]
    },
    {
      "cell_type": "markdown",
      "source": [
        "SELECTING THE IMPORTANT FEATURES"
      ],
      "metadata": {
        "id": "TSLjwho8H2cI"
      }
    },
    {
      "cell_type": "code",
      "source": [
        "from sklearn.feature_selection import RFE\n",
        "import itertools\n",
        "rfc = RandomForestClassifier()\n",
        "\n",
        "# create the RFE model and select 10 attributes\n",
        "rfe = RFE(rfc, n_features_to_select=15)\n",
        "rfe = rfe.fit(train_x, train_y)\n",
        "\n",
        "# summarize the selection of the attributes\n",
        "feature_map = [(i, v) for i, v in itertools.zip_longest(rfe.get_support(), train_x.columns)]\n",
        "selected_features = [v for i, v in feature_map if i==True]\n",
        "\n",
        "selected_features"
      ],
      "metadata": {
        "colab": {
          "base_uri": "https://localhost:8080/"
        },
        "id": "eh2ol3zGmu1e",
        "outputId": "08fdbd4a-073c-4883-c864-39aae29a5621"
      },
      "execution_count": 15,
      "outputs": [
        {
          "output_type": "execute_result",
          "data": {
            "text/plain": [
              "['src_bytes',\n",
              " 'dst_bytes',\n",
              " 'count',\n",
              " 'srv_count',\n",
              " 'serror_rate',\n",
              " 'same_srv_rate',\n",
              " 'diff_srv_rate',\n",
              " 'dst_host_same_srv_rate',\n",
              " 'dst_host_diff_srv_rate',\n",
              " 'dst_host_same_src_port_rate',\n",
              " 'dst_host_serror_rate',\n",
              " 'dst_host_srv_serror_rate',\n",
              " 'protocol_type',\n",
              " 'service',\n",
              " 'flag']"
            ]
          },
          "metadata": {},
          "execution_count": 15
        }
      ]
    },
    {
      "cell_type": "code",
      "source": [
        "X_train_rfe = rfe.transform(X_train)\n",
        "X_test_rfe = rfe.transform(X_test)"
      ],
      "metadata": {
        "id": "6SRYVxIjmw6W"
      },
      "execution_count": 31,
      "outputs": []
    },
    {
      "cell_type": "markdown",
      "source": [
        "TRAINING THE MODEL"
      ],
      "metadata": {
        "id": "GvBiBy7aHyPm"
      }
    },
    {
      "cell_type": "code",
      "source": [
        "from sklearn.linear_model import LogisticRegression\n",
        "from sklearn.svm import SVC \n",
        "\n",
        "# instantiate the model (using the default parameters)\n",
        "\n",
        "svm_model = SVC(kernel='rbf', C=10, gamma=0.1,random_state=0)\n",
        "svm_model.fit(X_train_rfe, y_train)\n",
        "logreg = LogisticRegression(n_jobs=-1,random_state=0)\n",
        "logreg.fit(X_train_rfe, y_train)\n"
      ],
      "metadata": {
        "colab": {
          "base_uri": "https://localhost:8080/",
          "height": 75
        },
        "id": "bK6eEplhmy3i",
        "outputId": "285d0712-f879-458a-c3da-ed497d5e396a"
      },
      "execution_count": 32,
      "outputs": [
        {
          "output_type": "execute_result",
          "data": {
            "text/plain": [
              "LogisticRegression(n_jobs=-1, random_state=0)"
            ],
            "text/html": [
              "<style>#sk-container-id-2 {color: black;background-color: white;}#sk-container-id-2 pre{padding: 0;}#sk-container-id-2 div.sk-toggleable {background-color: white;}#sk-container-id-2 label.sk-toggleable__label {cursor: pointer;display: block;width: 100%;margin-bottom: 0;padding: 0.3em;box-sizing: border-box;text-align: center;}#sk-container-id-2 label.sk-toggleable__label-arrow:before {content: \"▸\";float: left;margin-right: 0.25em;color: #696969;}#sk-container-id-2 label.sk-toggleable__label-arrow:hover:before {color: black;}#sk-container-id-2 div.sk-estimator:hover label.sk-toggleable__label-arrow:before {color: black;}#sk-container-id-2 div.sk-toggleable__content {max-height: 0;max-width: 0;overflow: hidden;text-align: left;background-color: #f0f8ff;}#sk-container-id-2 div.sk-toggleable__content pre {margin: 0.2em;color: black;border-radius: 0.25em;background-color: #f0f8ff;}#sk-container-id-2 input.sk-toggleable__control:checked~div.sk-toggleable__content {max-height: 200px;max-width: 100%;overflow: auto;}#sk-container-id-2 input.sk-toggleable__control:checked~label.sk-toggleable__label-arrow:before {content: \"▾\";}#sk-container-id-2 div.sk-estimator input.sk-toggleable__control:checked~label.sk-toggleable__label {background-color: #d4ebff;}#sk-container-id-2 div.sk-label input.sk-toggleable__control:checked~label.sk-toggleable__label {background-color: #d4ebff;}#sk-container-id-2 input.sk-hidden--visually {border: 0;clip: rect(1px 1px 1px 1px);clip: rect(1px, 1px, 1px, 1px);height: 1px;margin: -1px;overflow: hidden;padding: 0;position: absolute;width: 1px;}#sk-container-id-2 div.sk-estimator {font-family: monospace;background-color: #f0f8ff;border: 1px dotted black;border-radius: 0.25em;box-sizing: border-box;margin-bottom: 0.5em;}#sk-container-id-2 div.sk-estimator:hover {background-color: #d4ebff;}#sk-container-id-2 div.sk-parallel-item::after {content: \"\";width: 100%;border-bottom: 1px solid gray;flex-grow: 1;}#sk-container-id-2 div.sk-label:hover label.sk-toggleable__label {background-color: #d4ebff;}#sk-container-id-2 div.sk-serial::before {content: \"\";position: absolute;border-left: 1px solid gray;box-sizing: border-box;top: 0;bottom: 0;left: 50%;z-index: 0;}#sk-container-id-2 div.sk-serial {display: flex;flex-direction: column;align-items: center;background-color: white;padding-right: 0.2em;padding-left: 0.2em;position: relative;}#sk-container-id-2 div.sk-item {position: relative;z-index: 1;}#sk-container-id-2 div.sk-parallel {display: flex;align-items: stretch;justify-content: center;background-color: white;position: relative;}#sk-container-id-2 div.sk-item::before, #sk-container-id-2 div.sk-parallel-item::before {content: \"\";position: absolute;border-left: 1px solid gray;box-sizing: border-box;top: 0;bottom: 0;left: 50%;z-index: -1;}#sk-container-id-2 div.sk-parallel-item {display: flex;flex-direction: column;z-index: 1;position: relative;background-color: white;}#sk-container-id-2 div.sk-parallel-item:first-child::after {align-self: flex-end;width: 50%;}#sk-container-id-2 div.sk-parallel-item:last-child::after {align-self: flex-start;width: 50%;}#sk-container-id-2 div.sk-parallel-item:only-child::after {width: 0;}#sk-container-id-2 div.sk-dashed-wrapped {border: 1px dashed gray;margin: 0 0.4em 0.5em 0.4em;box-sizing: border-box;padding-bottom: 0.4em;background-color: white;}#sk-container-id-2 div.sk-label label {font-family: monospace;font-weight: bold;display: inline-block;line-height: 1.2em;}#sk-container-id-2 div.sk-label-container {text-align: center;}#sk-container-id-2 div.sk-container {/* jupyter's `normalize.less` sets `[hidden] { display: none; }` but bootstrap.min.css set `[hidden] { display: none !important; }` so we also need the `!important` here to be able to override the default hidden behavior on the sphinx rendered scikit-learn.org. See: https://github.com/scikit-learn/scikit-learn/issues/21755 */display: inline-block !important;position: relative;}#sk-container-id-2 div.sk-text-repr-fallback {display: none;}</style><div id=\"sk-container-id-2\" class=\"sk-top-container\"><div class=\"sk-text-repr-fallback\"><pre>LogisticRegression(n_jobs=-1, random_state=0)</pre><b>In a Jupyter environment, please rerun this cell to show the HTML representation or trust the notebook. <br />On GitHub, the HTML representation is unable to render, please try loading this page with nbviewer.org.</b></div><div class=\"sk-container\" hidden><div class=\"sk-item\"><div class=\"sk-estimator sk-toggleable\"><input class=\"sk-toggleable__control sk-hidden--visually\" id=\"sk-estimator-id-2\" type=\"checkbox\" checked><label for=\"sk-estimator-id-2\" class=\"sk-toggleable__label sk-toggleable__label-arrow\">LogisticRegression</label><div class=\"sk-toggleable__content\"><pre>LogisticRegression(n_jobs=-1, random_state=0)</pre></div></div></div></div></div>"
            ]
          },
          "metadata": {},
          "execution_count": 32
        }
      ]
    },
    {
      "cell_type": "code",
      "source": [
        "svm_iterations = svm_model.n_iter_\n",
        "print(svm_iterations)"
      ],
      "metadata": {
        "colab": {
          "base_uri": "https://localhost:8080/"
        },
        "id": "fkaJnGqfKOuJ",
        "outputId": "ff8566de-444a-4e19-ca76-27fcf01d0084"
      },
      "execution_count": 62,
      "outputs": [
        {
          "output_type": "stream",
          "name": "stdout",
          "text": [
            "[9440 2440  709  693 4574 2643  566  974  806  170]\n"
          ]
        }
      ]
    },
    {
      "cell_type": "code",
      "source": [
        "log_iterations = logreg.n_iter_\n",
        "print(log_iterations)"
      ],
      "metadata": {
        "colab": {
          "base_uri": "https://localhost:8080/"
        },
        "id": "YdBh2wY1Mw3Q",
        "outputId": "66357eac-5275-4b45-9fd4-ddb735715bd1"
      },
      "execution_count": 63,
      "outputs": [
        {
          "output_type": "stream",
          "name": "stdout",
          "text": [
            "[100]\n"
          ]
        }
      ]
    },
    {
      "cell_type": "markdown",
      "source": [
        "THRESHOLD VALUES FOR EACH FEATURE"
      ],
      "metadata": {
        "id": "ZnqV2igUHtTd"
      }
    },
    {
      "cell_type": "code",
      "source": [
        "thresholds = {}\n",
        "normal_indices = y == 'Normal'\n",
        "for feature in train_x.columns:\n",
        "    feature_values = train_x.loc[:, feature]\n",
        "    feature_normal_values = feature_values[normal_indices]\n",
        "    threshold = feature_normal_values.max()\n",
        "    thresholds[feature] = threshold\n",
        "\n",
        "# Print the threshold value for each feature\n",
        "for feature, threshold in thresholds.items():\n",
        "    print(f'{feature}: {threshold:.2f}')"
      ],
      "metadata": {
        "colab": {
          "base_uri": "https://localhost:8080/"
        },
        "id": "HlxcC6IAKp0k",
        "outputId": "853cf7a6-6bd5-4d62-d33e-80437736fd06"
      },
      "execution_count": 34,
      "outputs": [
        {
          "output_type": "stream",
          "name": "stdout",
          "text": [
            "duration: 15.44\n",
            "src_bytes: 15.25\n",
            "dst_bytes: 1.74\n",
            "land: 70.98\n",
            "wrong_fragment: -0.09\n",
            "urgent: 208.82\n",
            "hot: 35.72\n",
            "num_failed_logins: 88.39\n",
            "logged_in: 1.24\n",
            "num_compromised: 312.37\n",
            "root_shell: 27.28\n",
            "su_attempted: 44.27\n",
            "num_root: 306.06\n",
            "num_file_creations: 88.83\n",
            "num_shells: 90.15\n",
            "num_access_files: 90.53\n",
            "num_outbound_cmds: 0.00\n",
            "is_host_login: 354.93\n",
            "is_guest_login: 10.25\n",
            "count: 3.73\n",
            "srv_count: 6.65\n",
            "serror_rate: 1.60\n",
            "srv_serror_rate: 1.61\n",
            "rerror_rate: 2.75\n",
            "srv_rerror_rate: 2.72\n",
            "same_srv_rate: 0.77\n",
            "diff_srv_rate: 5.20\n",
            "srv_diff_host_rate: 3.47\n",
            "dst_host_count: 0.73\n",
            "dst_host_srv_count: 1.26\n",
            "dst_host_same_srv_rate: 1.07\n",
            "dst_host_diff_srv_rate: 4.85\n",
            "dst_host_same_src_port_rate: 2.76\n",
            "dst_host_srv_diff_host_rate: 8.59\n",
            "dst_host_serror_rate: 1.61\n",
            "dst_host_srv_serror_rate: 1.62\n",
            "dst_host_rerror_rate: 2.87\n",
            "dst_host_srv_rerror_rate: 2.75\n",
            "protocol_type: 2.00\n",
            "service: 65.00\n",
            "flag: 10.00\n"
          ]
        }
      ]
    },
    {
      "cell_type": "code",
      "source": [
        "coef = logreg.coef_.ravel()\n",
        "intercept = logreg.intercept_"
      ],
      "metadata": {
        "id": "fLAydk7fw8h1"
      },
      "execution_count": 35,
      "outputs": []
    },
    {
      "cell_type": "code",
      "source": [
        "def sigmoid(z):\n",
        "    return 1 / (1 + np.exp(-z))\n",
        "\n",
        "# plot logistic function\n",
        "z = np.linspace(-10, 10, 1000)\n",
        "\n",
        "# Load learned coefficients from logistic regression\n",
        "weights = logreg.coef_[0]\n",
        "intercept = logreg.intercept_[0]\n",
        "\n",
        "# Calculate linear combination of input features and coefficients\n",
        "z_pred = np.dot(X_train_rfe, weights) + intercept\n",
        "\n",
        "# Calculate predicted probabilities using sigmoid function\n",
        "y_pred_proba = sigmoid(z_pred)\n",
        "\n",
        "# Plot sigmoid curve\n",
        "plt.plot(z, sigmoid(z), 'b-', label='sigmoid')\n",
        "\n",
        "plt.xlabel('z')\n",
        "plt.ylabel('sigmoid(z)')\n",
        "plt.legend(loc='best')\n",
        "plt.show()"
      ],
      "metadata": {
        "colab": {
          "base_uri": "https://localhost:8080/",
          "height": 400
        },
        "id": "vZcN_3LDw__v",
        "outputId": "80004c78-3ef7-426b-9ae0-07f1ea3a15b7"
      },
      "execution_count": 36,
      "outputs": [
        {
          "output_type": "display_data",
          "data": {
            "text/plain": [
              "<Figure size 1100x400 with 1 Axes>"
            ],
            "image/png": "[encoded data removed]"
          },
          "metadata": {}
        }
      ]
    },
    {
      "cell_type": "code",
      "source": [
        "import pickle\n",
        "with open('svm_model1.pkl', 'wb') as f:\n",
        "    pickle.dump(svm_model, f)"
      ],
      "metadata": {
        "id": "FInR_kL4m02p"
      },
      "execution_count": 37,
      "outputs": []
    },
    {
      "cell_type": "code",
      "source": [
        "from sklearn import metrics\n",
        "from sklearn.metrics import accuracy_score\n",
        "y_train_pred = svm_model.predict(X_train_rfe)\n",
        "accuracy_svm = accuracy_score(y_train, y_train_pred)\n",
        "print(accuracy_svm)\n",
        "cm_train = metrics.confusion_matrix(y_train, y_train_pred)\n",
        "print(cm_train)"
      ],
      "metadata": {
        "id": "wXMU3yPem2sf",
        "colab": {
          "base_uri": "https://localhost:8080/"
        },
        "outputId": "1db7a037-0502-40e6-a696-f8f87c010a4a"
      },
      "execution_count": 33,
      "outputs": [
        {
          "output_type": "stream",
          "name": "stdout",
          "text": [
            "0.9848974974696858\n",
            "[[35952   785     9     0     0]\n",
            " [   32 53567   185   135     2]\n",
            " [   18    79  9202     0     0]\n",
            " [    0   250     0   520     1]\n",
            " [    0    22     0     4    15]]\n"
          ]
        }
      ]
    },
    {
      "cell_type": "code",
      "source": [
        "from sklearn import metrics\n",
        "from sklearn.metrics import accuracy_score\n",
        "y_test_pred = svm_model.predict(X_test_rfe)\n",
        "accuracy_svm2 = accuracy_score(y_test, y_test_pred)\n",
        "print(\"Accuracy of SVM\",accuracy_svm2)\n",
        "cm_train2 = metrics.confusion_matrix(y_test, y_test_pred)\n",
        "print(cm_train2)"
      ],
      "metadata": {
        "colab": {
          "base_uri": "https://localhost:8080/"
        },
        "id": "Dd9zyAmF7T97",
        "outputId": "f64278a9-82f3-45b1-a7d5-eee962f6d5ea"
      },
      "execution_count": 58,
      "outputs": [
        {
          "output_type": "stream",
          "name": "stdout",
          "text": [
            "Accuracy of SVM 0.9825362175034729\n",
            "[[ 8987   188     6     0     0]\n",
            " [   15 13295    66    46     0]\n",
            " [    8    31  2318     0     0]\n",
            " [    0    69     0   154     1]\n",
            " [    0     5     0     5     1]]\n"
          ]
        }
      ]
    },
    {
      "cell_type": "code",
      "source": [
        "confusion_matrix_5x5 = [[ 8987 ,  188 ,    6   ,  0  ,   0],\n",
        " [   15 ,13295 ,   66  ,  46 ,    0],\n",
        " [    8  ,  31 , 2318    , 0    , 0],\n",
        " [    0 ,   69,     0,   154 ,    1],\n",
        " [    0 ,    5,     0,     5,     1]]\n",
        "\n",
        "\n",
        "confusion_matrix_2x2 = [[confusion_matrix_5x5[0][0], sum(confusion_matrix_5x5[0][1:])], \n",
        "                       [sum([row[0] for row in confusion_matrix_5x5[1:]]), \n",
        "                        sum([item for sublist in confusion_matrix_5x5 for item in sublist]) - confusion_matrix_5x5[0][0] - sum(confusion_matrix_5x5[0][1:])]]\n",
        "\n",
        "#print(confusion_matrix_2x2)\n",
        "lst = [[8987, 194], [23, 16014]]\n",
        "mtx = np.array(lst)\n",
        "\n",
        "print(mtx)"
      ],
      "metadata": {
        "colab": {
          "base_uri": "https://localhost:8080/"
        },
        "id": "cFb2rsPGNIEf",
        "outputId": "2906ad93-eb47-4e6b-f299-9a79e3a2c030"
      },
      "execution_count": 48,
      "outputs": [
        {
          "output_type": "stream",
          "name": "stdout",
          "text": [
            "[[ 8987   194]\n",
            " [   23 16014]]\n"
          ]
        }
      ]
    },
    {
      "cell_type": "code",
      "source": [
        "from sklearn import metrics\n",
        "from sklearn.metrics import accuracy_score\n",
        "y_train_pred = logreg.predict(X_train_rfe)\n",
        "accuracy_svm = accuracy_score(y_train, y_train_pred)\n",
        "print(accuracy_svm)\n",
        "cm_train = metrics.confusion_matrix(y_train, y_train_pred)\n",
        "print(cm_train)"
      ],
      "metadata": {
        "id": "cEjOR-hbm76C",
        "colab": {
          "base_uri": "https://localhost:8080/"
        },
        "outputId": "6d313a5d-0013-4e88-f987-3b15ce414eae"
      },
      "execution_count": 42,
      "outputs": [
        {
          "output_type": "stream",
          "name": "stdout",
          "text": [
            "0.9315624441842466\n",
            "[[34685  1717   344     0     0]\n",
            " [  558 51607  1756     0     0]\n",
            " [  164  1546  7589     0     0]\n",
            " [    6   756     9     0     0]\n",
            " [    2    31     8     0     0]]\n"
          ]
        }
      ]
    },
    {
      "cell_type": "code",
      "source": [
        "from sklearn import metrics\n",
        "from sklearn.metrics import accuracy_score\n",
        "y_test_pred = logreg.predict(X_test_rfe)\n",
        "accuracy_logreg = accuracy_score(y_test, y_test_pred)\n",
        "print(\"Accuracy of Logistic Regression: \",accuracy_logreg)\n",
        "cm_train2 = metrics.confusion_matrix(y_test, y_test_pred)\n",
        "print(cm_train2)"
      ],
      "metadata": {
        "colab": {
          "base_uri": "https://localhost:8080/"
        },
        "id": "9jBdcXhECNCb",
        "outputId": "2f56cb3e-357b-43fa-f895-ee730406b27d"
      },
      "execution_count": 57,
      "outputs": [
        {
          "output_type": "stream",
          "name": "stdout",
          "text": [
            "Accuracy of Logistic Regression:  0.9310577495534829\n",
            "[[ 8658   433    90     0     0]\n",
            " [  129 12846   447     0     0]\n",
            " [   34   369  1954     0     0]\n",
            " [    2   220     2     0     0]\n",
            " [    0     9     2     0     0]]\n"
          ]
        }
      ]
    },
    {
      "cell_type": "code",
      "source": [
        "confusion_matrix_5x5 = [[43304,  2489,  134,  0,    0],\n",
        "                        [648,   64695, 1991, 9,    0],\n",
        "                        [179,   2277,  9200, 0,    0],\n",
        "                        [15,    921,   59,   0,    0],\n",
        "                        [2,     32,    18,   0,    0]]\n",
        "confusion_matrix_2x2 = [[confusion_matrix_5x5[0][0], sum(confusion_matrix_5x5[0][1:])], \n",
        "                       [sum([row[0] for row in confusion_matrix_5x5[1:]]), \n",
        "                        sum([item for sublist in confusion_matrix_5x5 for item in sublist]) - confusion_matrix_5x5[0][0] - sum(confusion_matrix_5x5[0][1:])]]\n",
        "print(confusion_matrix_2x2)"
      ],
      "metadata": {
        "colab": {
          "base_uri": "https://localhost:8080/"
        },
        "id": "Zd2QSkpENhq5",
        "outputId": "7005913b-0782-4e68-e54c-5060b5a8e5e1"
      },
      "execution_count": 46,
      "outputs": [
        {
          "output_type": "stream",
          "name": "stdout",
          "text": [
            "[[43304, 2623], [844, 80046]]\n"
          ]
        }
      ]
    },
    {
      "cell_type": "code",
      "source": [
        "confusion_matrix_5x5 = [[ 8658 ,  433,    90,     0 ,    0],\n",
        " [  129, 12846 ,  447 ,    0  ,   0],\n",
        " [   34 ,  369  ,1954  ,   0   ,  0],\n",
        " [    2  , 220   ,  2   ,  0    , 0],\n",
        " [    0   ,  9    , 2    , 0     ,0]]\n",
        "confusion_matrix_2x2 = [[confusion_matrix_5x5[0][0], sum(confusion_matrix_5x5[0][1:])], \n",
        "                       [sum([row[0] for row in confusion_matrix_5x5[1:]]), \n",
        "                        sum([item for sublist in confusion_matrix_5x5 for item in sublist]) - confusion_matrix_5x5[0][0] - sum(confusion_matrix_5x5[0][1:])]]\n",
        "#print(confusion_matrix_2x2)\n",
        "\n",
        "lst = [[8658, 523], [165, 16014]]\n",
        "mtx = np.array(lst)\n",
        "\n",
        "print(mtx)"
      ],
      "metadata": {
        "colab": {
          "base_uri": "https://localhost:8080/"
        },
        "id": "75qpknoGE-93",
        "outputId": "74641a32-f0d5-45dc-8156-03ea7f6357ba"
      },
      "execution_count": 51,
      "outputs": [
        {
          "output_type": "stream",
          "name": "stdout",
          "text": [
            "[[ 8658   523]\n",
            " [  165 16014]]\n"
          ]
        }
      ]
    }
  ]
}