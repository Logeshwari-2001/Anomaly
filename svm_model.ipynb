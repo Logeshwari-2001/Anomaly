{
  "nbformat": 4,
  "nbformat_minor": 0,
  "metadata": {
    "colab": {
      "provenance": [],
      "authorship_tag": "ABX9TyNcv7lMcxH8BJ209QOKrWE7",
      "include_colab_link": true
    },
    "kernelspec": {
      "name": "python3",
      "display_name": "Python 3"
    },
    "language_info": {
      "name": "python"
    }
  },
  "cells": [
    {
      "cell_type": "markdown",
      "metadata": {
        "id": "view-in-github",
        "colab_type": "text"
      },
      "source": [
        "<a href=\"https://colab.research.google.com/github/Logeshwari-2001/Anomaly/blob/main/svm_model.ipynb\" target=\"_parent\"><img src=\"https://colab.research.google.com/assets/colab-badge.svg\" alt=\"Open In Colab\"/></a>"
      ]
    },
    {
      "cell_type": "code",
      "execution_count": 1,
      "metadata": {
        "id": "s8jF-0DK_74v"
      },
      "outputs": [],
      "source": [
        "import pandas as pd\n",
        "import numpy as np\n",
        "from sklearn.preprocessing import StandardScaler\n",
        "from sklearn.feature_selection import RFE\n",
        "from sklearn.linear_model import LogisticRegression\n",
        "import pickle"
      ]
    },
    {
      "cell_type": "code",
      "source": [
        "data = pd.read_csv('/content/Train_data.csv')\n"
      ],
      "metadata": {
        "id": "WV3MfTvwAetw"
      },
      "execution_count": 2,
      "outputs": []
    },
    {
      "cell_type": "code",
      "source": [
        "# Separate the target variable and the feature variables\n",
        "X = data.iloc[:, :-1]\n",
        "y = data.iloc[:, -1]"
      ],
      "metadata": {
        "id": "wrLZdvMwAiRX"
      },
      "execution_count": 3,
      "outputs": []
    },
    {
      "cell_type": "code",
      "source": [
        "print(X[\"protocol_type\"])"
      ],
      "metadata": {
        "colab": {
          "base_uri": "https://localhost:8080/"
        },
        "id": "Vs9wWw-IFwHX",
        "outputId": "cb345572-a2c5-493a-86f8-d574264e18c4"
      },
      "execution_count": 10,
      "outputs": [
        {
          "output_type": "stream",
          "name": "stdout",
          "text": [
            "0        tcp\n",
            "1        udp\n",
            "2        tcp\n",
            "3        tcp\n",
            "4        tcp\n",
            "        ... \n",
            "25187    tcp\n",
            "25188    tcp\n",
            "25189    tcp\n",
            "25190    tcp\n",
            "25191    tcp\n",
            "Name: protocol_type, Length: 25192, dtype: object\n"
          ]
        }
      ]
    },
    {
      "cell_type": "code",
      "source": [
        "print(X)\n",
        "print(X.shape)"
      ],
      "metadata": {
        "colab": {
          "base_uri": "https://localhost:8080/"
        },
        "id": "MKL7Cb2MAmxE",
        "outputId": "34782532-575d-4fe6-d6f3-2d42a64681aa"
      },
      "execution_count": 25,
      "outputs": [
        {
          "output_type": "stream",
          "name": "stdout",
          "text": [
            "       duration  protocol_type  service  flag  src_bytes  dst_bytes  land  \\\n",
            "0             0              0        0     0        491          0     0   \n",
            "1             0              1        1     0        146          0     0   \n",
            "2             0              0        2     1          0          0     0   \n",
            "3             0              0        3     0        232       8153     0   \n",
            "4             0              0        3     0        199        420     0   \n",
            "...         ...            ...      ...   ...        ...        ...   ...   \n",
            "25187         0              0       43     5          0          0     0   \n",
            "25188         0              0        0     0        334          0     0   \n",
            "25189         0              0        2     2          0          0     0   \n",
            "25190         0              0       54     1          0          0     0   \n",
            "25191         0              0       10     1          0          0     0   \n",
            "\n",
            "       wrong_fragment  urgent  hot  ...  dst_host_count  dst_host_srv_count  \\\n",
            "0                   0       0    0  ...             150                  25   \n",
            "1                   0       0    0  ...             255                   1   \n",
            "2                   0       0    0  ...             255                  26   \n",
            "3                   0       0    0  ...              30                 255   \n",
            "4                   0       0    0  ...             255                 255   \n",
            "...               ...     ...  ...  ...             ...                 ...   \n",
            "25187               0       0    0  ...             255                   7   \n",
            "25188               0       0    0  ...               1                  39   \n",
            "25189               0       0    0  ...             255                  13   \n",
            "25190               0       0    0  ...             255                  20   \n",
            "25191               0       0    0  ...             255                  49   \n",
            "\n",
            "       dst_host_same_srv_rate  dst_host_diff_srv_rate  \\\n",
            "0                        0.17                    0.03   \n",
            "1                        0.00                    0.60   \n",
            "2                        0.10                    0.05   \n",
            "3                        1.00                    0.00   \n",
            "4                        1.00                    0.00   \n",
            "...                       ...                     ...   \n",
            "25187                    0.03                    0.06   \n",
            "25188                    1.00                    0.00   \n",
            "25189                    0.05                    0.07   \n",
            "25190                    0.08                    0.06   \n",
            "25191                    0.19                    0.03   \n",
            "\n",
            "       dst_host_same_src_port_rate  dst_host_srv_diff_host_rate  \\\n",
            "0                             0.17                         0.00   \n",
            "1                             0.88                         0.00   \n",
            "2                             0.00                         0.00   \n",
            "3                             0.03                         0.04   \n",
            "4                             0.00                         0.00   \n",
            "...                            ...                          ...   \n",
            "25187                         0.00                         0.00   \n",
            "25188                         1.00                         0.18   \n",
            "25189                         0.00                         0.00   \n",
            "25190                         0.00                         0.00   \n",
            "25191                         0.01                         0.00   \n",
            "\n",
            "       dst_host_serror_rate  dst_host_srv_serror_rate  dst_host_rerror_rate  \\\n",
            "0                      0.00                      0.00                  0.05   \n",
            "1                      0.00                      0.00                  0.00   \n",
            "2                      1.00                      1.00                  0.00   \n",
            "3                      0.03                      0.01                  0.00   \n",
            "4                      0.00                      0.00                  0.00   \n",
            "...                     ...                       ...                   ...   \n",
            "25187                  0.00                      0.00                  1.00   \n",
            "25188                  0.00                      0.00                  0.00   \n",
            "25189                  0.00                      0.00                  1.00   \n",
            "25190                  1.00                      1.00                  0.00   \n",
            "25191                  1.00                      1.00                  0.00   \n",
            "\n",
            "       dst_host_srv_rerror_rate  \n",
            "0                          0.00  \n",
            "1                          0.00  \n",
            "2                          0.00  \n",
            "3                          0.01  \n",
            "4                          0.00  \n",
            "...                         ...  \n",
            "25187                      1.00  \n",
            "25188                      0.00  \n",
            "25189                      1.00  \n",
            "25190                      0.00  \n",
            "25191                      0.00  \n",
            "\n",
            "[25192 rows x 41 columns]\n",
            "(25192, 41)\n"
          ]
        }
      ]
    },
    {
      "cell_type": "code",
      "source": [
        "print(y)"
      ],
      "metadata": {
        "colab": {
          "base_uri": "https://localhost:8080/"
        },
        "id": "SPKpRe5UAucJ",
        "outputId": "c1fe0a0b-975f-4cdd-fb18-709d5255ff5f"
      },
      "execution_count": 6,
      "outputs": [
        {
          "output_type": "stream",
          "name": "stdout",
          "text": [
            "0         normal\n",
            "1         normal\n",
            "2        anomaly\n",
            "3         normal\n",
            "4         normal\n",
            "          ...   \n",
            "25187    anomaly\n",
            "25188    anomaly\n",
            "25189    anomaly\n",
            "25190    anomaly\n",
            "25191    anomaly\n",
            "Name: class, Length: 25192, dtype: object\n"
          ]
        }
      ]
    },
    {
      "cell_type": "code",
      "source": [
        "print(X[protocol_type])"
      ],
      "metadata": {
        "id": "-PVItOjoEekv"
      },
      "execution_count": null,
      "outputs": []
    },
    {
      "cell_type": "code",
      "source": [
        "# Convert non-numeric features to numeric\n",
        "X[\"protocol_type\"] = pd.factorize(X[\"protocol_type\"])[0]\n",
        "X[\"service\"] = pd.factorize(X[\"service\"])[0]\n",
        "X[\"flag\"] = pd.factorize(X[\"flag\"])[0]"
      ],
      "metadata": {
        "id": "KZDfMWRVA-N6"
      },
      "execution_count": 13,
      "outputs": []
    },
    {
      "cell_type": "code",
      "source": [
        "print(X[\"protocol_type\"])"
      ],
      "metadata": {
        "colab": {
          "base_uri": "https://localhost:8080/"
        },
        "id": "EssWnDTMBDvx",
        "outputId": "b1975423-e675-4186-cf0d-1b471e10d3e4"
      },
      "execution_count": 12,
      "outputs": [
        {
          "output_type": "stream",
          "name": "stdout",
          "text": [
            "0        0\n",
            "1        1\n",
            "2        0\n",
            "3        0\n",
            "4        0\n",
            "        ..\n",
            "25187    0\n",
            "25188    0\n",
            "25189    0\n",
            "25190    0\n",
            "25191    0\n",
            "Name: protocol_type, Length: 25192, dtype: int64\n"
          ]
        }
      ]
    },
    {
      "cell_type": "code",
      "source": [
        "# Apply standard scaling\n",
        "scaler = StandardScaler()\n",
        "X_scaled = scaler.fit_transform(X)"
      ],
      "metadata": {
        "id": "gAupy6nBGOrf"
      },
      "execution_count": 14,
      "outputs": []
    },
    {
      "cell_type": "code",
      "source": [
        "from sklearn.ensemble import RandomForestClassifier\n",
        "rfe = RFE(RandomForestClassifier(n_estimators=100, random_state=0, n_jobs=-1), n_features_to_select = 15)\n",
        "rfe.fit(X_scaled, y)"
      ],
      "metadata": {
        "colab": {
          "base_uri": "https://localhost:8080/",
          "height": 118
        },
        "id": "PhMEc8ezGh69",
        "outputId": "0c5827bc-93ad-4d21-9d35-6d1635cc7e49"
      },
      "execution_count": 16,
      "outputs": [
        {
          "output_type": "execute_result",
          "data": {
            "text/plain": [
              "RFE(estimator=RandomForestClassifier(n_jobs=-1, random_state=0),\n",
              "    n_features_to_select=15)"
            ],
            "text/html": [
              "<style>#sk-container-id-1 {color: black;background-color: white;}#sk-container-id-1 pre{padding: 0;}#sk-container-id-1 div.sk-toggleable {background-color: white;}#sk-container-id-1 label.sk-toggleable__label {cursor: pointer;display: block;width: 100%;margin-bottom: 0;padding: 0.3em;box-sizing: border-box;text-align: center;}#sk-container-id-1 label.sk-toggleable__label-arrow:before {content: \"▸\";float: left;margin-right: 0.25em;color: #696969;}#sk-container-id-1 label.sk-toggleable__label-arrow:hover:before {color: black;}#sk-container-id-1 div.sk-estimator:hover label.sk-toggleable__label-arrow:before {color: black;}#sk-container-id-1 div.sk-toggleable__content {max-height: 0;max-width: 0;overflow: hidden;text-align: left;background-color: #f0f8ff;}#sk-container-id-1 div.sk-toggleable__content pre {margin: 0.2em;color: black;border-radius: 0.25em;background-color: #f0f8ff;}#sk-container-id-1 input.sk-toggleable__control:checked~div.sk-toggleable__content {max-height: 200px;max-width: 100%;overflow: auto;}#sk-container-id-1 input.sk-toggleable__control:checked~label.sk-toggleable__label-arrow:before {content: \"▾\";}#sk-container-id-1 div.sk-estimator input.sk-toggleable__control:checked~label.sk-toggleable__label {background-color: #d4ebff;}#sk-container-id-1 div.sk-label input.sk-toggleable__control:checked~label.sk-toggleable__label {background-color: #d4ebff;}#sk-container-id-1 input.sk-hidden--visually {border: 0;clip: rect(1px 1px 1px 1px);clip: rect(1px, 1px, 1px, 1px);height: 1px;margin: -1px;overflow: hidden;padding: 0;position: absolute;width: 1px;}#sk-container-id-1 div.sk-estimator {font-family: monospace;background-color: #f0f8ff;border: 1px dotted black;border-radius: 0.25em;box-sizing: border-box;margin-bottom: 0.5em;}#sk-container-id-1 div.sk-estimator:hover {background-color: #d4ebff;}#sk-container-id-1 div.sk-parallel-item::after {content: \"\";width: 100%;border-bottom: 1px solid gray;flex-grow: 1;}#sk-container-id-1 div.sk-label:hover label.sk-toggleable__label {background-color: #d4ebff;}#sk-container-id-1 div.sk-serial::before {content: \"\";position: absolute;border-left: 1px solid gray;box-sizing: border-box;top: 0;bottom: 0;left: 50%;z-index: 0;}#sk-container-id-1 div.sk-serial {display: flex;flex-direction: column;align-items: center;background-color: white;padding-right: 0.2em;padding-left: 0.2em;position: relative;}#sk-container-id-1 div.sk-item {position: relative;z-index: 1;}#sk-container-id-1 div.sk-parallel {display: flex;align-items: stretch;justify-content: center;background-color: white;position: relative;}#sk-container-id-1 div.sk-item::before, #sk-container-id-1 div.sk-parallel-item::before {content: \"\";position: absolute;border-left: 1px solid gray;box-sizing: border-box;top: 0;bottom: 0;left: 50%;z-index: -1;}#sk-container-id-1 div.sk-parallel-item {display: flex;flex-direction: column;z-index: 1;position: relative;background-color: white;}#sk-container-id-1 div.sk-parallel-item:first-child::after {align-self: flex-end;width: 50%;}#sk-container-id-1 div.sk-parallel-item:last-child::after {align-self: flex-start;width: 50%;}#sk-container-id-1 div.sk-parallel-item:only-child::after {width: 0;}#sk-container-id-1 div.sk-dashed-wrapped {border: 1px dashed gray;margin: 0 0.4em 0.5em 0.4em;box-sizing: border-box;padding-bottom: 0.4em;background-color: white;}#sk-container-id-1 div.sk-label label {font-family: monospace;font-weight: bold;display: inline-block;line-height: 1.2em;}#sk-container-id-1 div.sk-label-container {text-align: center;}#sk-container-id-1 div.sk-container {/* jupyter's `normalize.less` sets `[hidden] { display: none; }` but bootstrap.min.css set `[hidden] { display: none !important; }` so we also need the `!important` here to be able to override the default hidden behavior on the sphinx rendered scikit-learn.org. See: https://github.com/scikit-learn/scikit-learn/issues/21755 */display: inline-block !important;position: relative;}#sk-container-id-1 div.sk-text-repr-fallback {display: none;}</style><div id=\"sk-container-id-1\" class=\"sk-top-container\"><div class=\"sk-text-repr-fallback\"><pre>RFE(estimator=RandomForestClassifier(n_jobs=-1, random_state=0),\n",
              "    n_features_to_select=15)</pre><b>In a Jupyter environment, please rerun this cell to show the HTML representation or trust the notebook. <br />On GitHub, the HTML representation is unable to render, please try loading this page with nbviewer.org.</b></div><div class=\"sk-container\" hidden><div class=\"sk-item sk-dashed-wrapped\"><div class=\"sk-label-container\"><div class=\"sk-label sk-toggleable\"><input class=\"sk-toggleable__control sk-hidden--visually\" id=\"sk-estimator-id-1\" type=\"checkbox\" ><label for=\"sk-estimator-id-1\" class=\"sk-toggleable__label sk-toggleable__label-arrow\">RFE</label><div class=\"sk-toggleable__content\"><pre>RFE(estimator=RandomForestClassifier(n_jobs=-1, random_state=0),\n",
              "    n_features_to_select=15)</pre></div></div></div><div class=\"sk-parallel\"><div class=\"sk-parallel-item\"><div class=\"sk-item\"><div class=\"sk-label-container\"><div class=\"sk-label sk-toggleable\"><input class=\"sk-toggleable__control sk-hidden--visually\" id=\"sk-estimator-id-2\" type=\"checkbox\" ><label for=\"sk-estimator-id-2\" class=\"sk-toggleable__label sk-toggleable__label-arrow\">estimator: RandomForestClassifier</label><div class=\"sk-toggleable__content\"><pre>RandomForestClassifier(n_jobs=-1, random_state=0)</pre></div></div></div><div class=\"sk-serial\"><div class=\"sk-item\"><div class=\"sk-estimator sk-toggleable\"><input class=\"sk-toggleable__control sk-hidden--visually\" id=\"sk-estimator-id-3\" type=\"checkbox\" ><label for=\"sk-estimator-id-3\" class=\"sk-toggleable__label sk-toggleable__label-arrow\">RandomForestClassifier</label><div class=\"sk-toggleable__content\"><pre>RandomForestClassifier(n_jobs=-1, random_state=0)</pre></div></div></div></div></div></div></div></div></div></div>"
            ]
          },
          "metadata": {},
          "execution_count": 16
        }
      ]
    },
    {
      "cell_type": "code",
      "source": [
        "feature_names = list(X.columns[rfe.support_])\n",
        "print(feature_names)"
      ],
      "metadata": {
        "colab": {
          "base_uri": "https://localhost:8080/"
        },
        "id": "PXPBw1qyG-Jm",
        "outputId": "5e292f34-483d-4a46-e6a1-b1e89403dcfe"
      },
      "execution_count": 18,
      "outputs": [
        {
          "output_type": "stream",
          "name": "stdout",
          "text": [
            "['protocol_type', 'service', 'flag', 'src_bytes', 'dst_bytes', 'hot', 'logged_in', 'count', 'srv_count', 'same_srv_rate', 'diff_srv_rate', 'dst_host_srv_count', 'dst_host_same_srv_rate', 'dst_host_diff_srv_rate', 'dst_host_same_src_port_rate']\n"
          ]
        }
      ]
    },
    {
      "cell_type": "code",
      "source": [
        "with open('scaler1.pkl', 'wb') as f:\n",
        "    pickle.dump(scaler, f)\n",
        "\n",
        "with open('rfe.pkl', 'wb') as f:\n",
        "    pickle.dump(rfe, f)"
      ],
      "metadata": {
        "id": "2XrMWF5_HHsl"
      },
      "execution_count": 19,
      "outputs": []
    },
    {
      "cell_type": "code",
      "source": [
        "names = data.columns[:-1]"
      ],
      "metadata": {
        "id": "cb6SSwnaid9w"
      },
      "execution_count": 28,
      "outputs": []
    },
    {
      "cell_type": "code",
      "source": [
        "selected_features = rfe.support_"
      ],
      "metadata": {
        "id": "y4g9Ai3YjIka"
      },
      "execution_count": 30,
      "outputs": []
    },
    {
      "cell_type": "code",
      "source": [
        "X_selected = X_scaled[:, selected_features]"
      ],
      "metadata": {
        "id": "uMPUth_1jM4f"
      },
      "execution_count": 31,
      "outputs": []
    },
    {
      "cell_type": "code",
      "source": [
        "svm_model = SVC(kernel='rbf', C=10, gamma=0.1, random_state=42).fit(X_selected, y)"
      ],
      "metadata": {
        "id": "TlRV--TXjQgX"
      },
      "execution_count": 38,
      "outputs": []
    },
    {
      "cell_type": "code",
      "source": [
        "from sklearn.svm import SVC\n",
        "\n",
        "# X_train and y_train are the preprocessed feature matrix and target vector, respectively\n",
        "# svm_model = SVC(kernel='rbf', C=10, gamma=0.1, random_state=42)\n",
        "# svm_model = SVC(kernel='linear', C=1).fit(X_scaled[:, feature_names], y, names=names[feature_names])\n",
        "# svm_model.fit(X_scaled, y)"
      ],
      "metadata": {
        "colab": {
          "base_uri": "https://localhost:8080/",
          "height": 222
        },
        "id": "mQkEJAWOHl1l",
        "outputId": "4b2272af-746e-42bc-902f-bfa16336a384"
      },
      "execution_count": 29,
      "outputs": [
        {
          "output_type": "error",
          "ename": "IndexError",
          "evalue": "ignored",
          "traceback": [
            "\u001b[0;31m---------------------------------------------------------------------------\u001b[0m",
            "\u001b[0;31mIndexError\u001b[0m                                Traceback (most recent call last)",
            "\u001b[0;32m<ipython-input-29-95ae0506c9f3>\u001b[0m in \u001b[0;36m<cell line: 5>\u001b[0;34m()\u001b[0m\n\u001b[1;32m      3\u001b[0m \u001b[0;31m# X_train and y_train are the preprocessed feature matrix and target vector, respectively\u001b[0m\u001b[0;34m\u001b[0m\u001b[0;34m\u001b[0m\u001b[0m\n\u001b[1;32m      4\u001b[0m \u001b[0msvm_model\u001b[0m \u001b[0;34m=\u001b[0m \u001b[0mSVC\u001b[0m\u001b[0;34m(\u001b[0m\u001b[0mkernel\u001b[0m\u001b[0;34m=\u001b[0m\u001b[0;34m'rbf'\u001b[0m\u001b[0;34m,\u001b[0m \u001b[0mC\u001b[0m\u001b[0;34m=\u001b[0m\u001b[0;36m10\u001b[0m\u001b[0;34m,\u001b[0m \u001b[0mgamma\u001b[0m\u001b[0;34m=\u001b[0m\u001b[0;36m0.1\u001b[0m\u001b[0;34m,\u001b[0m \u001b[0mrandom_state\u001b[0m\u001b[0;34m=\u001b[0m\u001b[0;36m42\u001b[0m\u001b[0;34m)\u001b[0m\u001b[0;34m\u001b[0m\u001b[0;34m\u001b[0m\u001b[0m\n\u001b[0;32m----> 5\u001b[0;31m \u001b[0msvm_model\u001b[0m \u001b[0;34m=\u001b[0m \u001b[0mSVC\u001b[0m\u001b[0;34m(\u001b[0m\u001b[0mkernel\u001b[0m\u001b[0;34m=\u001b[0m\u001b[0;34m'linear'\u001b[0m\u001b[0;34m,\u001b[0m \u001b[0mC\u001b[0m\u001b[0;34m=\u001b[0m\u001b[0;36m1\u001b[0m\u001b[0;34m)\u001b[0m\u001b[0;34m.\u001b[0m\u001b[0mfit\u001b[0m\u001b[0;34m(\u001b[0m\u001b[0mX_scaled\u001b[0m\u001b[0;34m[\u001b[0m\u001b[0;34m:\u001b[0m\u001b[0;34m,\u001b[0m \u001b[0mfeature_names\u001b[0m\u001b[0;34m]\u001b[0m\u001b[0;34m,\u001b[0m \u001b[0my\u001b[0m\u001b[0;34m,\u001b[0m \u001b[0mnames\u001b[0m\u001b[0;34m=\u001b[0m\u001b[0mnames\u001b[0m\u001b[0;34m[\u001b[0m\u001b[0mfeature_names\u001b[0m\u001b[0;34m]\u001b[0m\u001b[0;34m)\u001b[0m\u001b[0;34m\u001b[0m\u001b[0;34m\u001b[0m\u001b[0m\n\u001b[0m\u001b[1;32m      6\u001b[0m \u001b[0msvm_model\u001b[0m\u001b[0;34m.\u001b[0m\u001b[0mfit\u001b[0m\u001b[0;34m(\u001b[0m\u001b[0mX_scaled\u001b[0m\u001b[0;34m,\u001b[0m \u001b[0my\u001b[0m\u001b[0;34m)\u001b[0m\u001b[0;34m\u001b[0m\u001b[0;34m\u001b[0m\u001b[0m\n",
            "\u001b[0;31mIndexError\u001b[0m: only integers, slices (`:`), ellipsis (`...`), numpy.newaxis (`None`) and integer or boolean arrays are valid indices"
          ]
        }
      ]
    },
    {
      "cell_type": "code",
      "source": [
        "with open('svm1.pkl', 'wb') as f:\n",
        "    pickle.dump(svm_model, f)"
      ],
      "metadata": {
        "id": "_YAsuxPRHvy7"
      },
      "execution_count": 41,
      "outputs": []
    },
    {
      "cell_type": "code",
      "source": [
        "from sklearn import metrics\n",
        "from sklearn.metrics import accuracy_score\n",
        "X_train_prediction = svm_model.predict(X_selected)\n",
        "training_data_accuracy = accuracy_score(y, X_train_prediction)\n",
        "print(training_data_accuracy)"
      ],
      "metadata": {
        "colab": {
          "base_uri": "https://localhost:8080/"
        },
        "id": "WDnv4T5iIJ6j",
        "outputId": "9f084f06-5531-439c-beeb-a354bee7a52e"
      },
      "execution_count": 39,
      "outputs": [
        {
          "output_type": "stream",
          "name": "stdout",
          "text": [
            "0.9916243251825977\n"
          ]
        }
      ]
    }
  ]
}